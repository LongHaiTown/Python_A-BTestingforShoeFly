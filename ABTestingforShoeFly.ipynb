{
 "cells": [
  {
   "cell_type": "markdown",
   "metadata": {},
   "source": [
    "# IMPORT MODULES"
   ]
  },
  {
   "cell_type": "code",
   "execution_count": 1,
   "metadata": {},
   "outputs": [],
   "source": [
    "import pandas as pd"
   ]
  },
  {
   "cell_type": "markdown",
   "metadata": {},
   "source": [
    "# READ CSV\n"
   ]
  },
  {
   "cell_type": "markdown",
   "metadata": {},
   "source": [
    "How many views (i.e., rows of the table) came from each utm_source?"
   ]
  },
  {
   "cell_type": "code",
   "execution_count": 8,
   "metadata": {},
   "outputs": [
    {
     "data": {
      "text/html": [
       "<div>\n",
       "<style scoped>\n",
       "    .dataframe tbody tr th:only-of-type {\n",
       "        vertical-align: middle;\n",
       "    }\n",
       "\n",
       "    .dataframe tbody tr th {\n",
       "        vertical-align: top;\n",
       "    }\n",
       "\n",
       "    .dataframe thead th {\n",
       "        text-align: right;\n",
       "    }\n",
       "</style>\n",
       "<table border=\"1\" class=\"dataframe\">\n",
       "  <thead>\n",
       "    <tr style=\"text-align: right;\">\n",
       "      <th></th>\n",
       "      <th>user_id</th>\n",
       "      <th>utm_source</th>\n",
       "      <th>day</th>\n",
       "      <th>ad_click_timestamp</th>\n",
       "      <th>experimental_group</th>\n",
       "    </tr>\n",
       "  </thead>\n",
       "  <tbody>\n",
       "    <tr>\n",
       "      <th>0</th>\n",
       "      <td>008b7c6c-7272-471e-b90e-930d548bd8d7</td>\n",
       "      <td>google</td>\n",
       "      <td>6 - Saturday</td>\n",
       "      <td>7:18</td>\n",
       "      <td>A</td>\n",
       "    </tr>\n",
       "    <tr>\n",
       "      <th>1</th>\n",
       "      <td>009abb94-5e14-4b6c-bb1c-4f4df7aa7557</td>\n",
       "      <td>facebook</td>\n",
       "      <td>7 - Sunday</td>\n",
       "      <td>NaN</td>\n",
       "      <td>B</td>\n",
       "    </tr>\n",
       "    <tr>\n",
       "      <th>2</th>\n",
       "      <td>00f5d532-ed58-4570-b6d2-768df5f41aed</td>\n",
       "      <td>twitter</td>\n",
       "      <td>2 - Tuesday</td>\n",
       "      <td>NaN</td>\n",
       "      <td>A</td>\n",
       "    </tr>\n",
       "    <tr>\n",
       "      <th>3</th>\n",
       "      <td>011adc64-0f44-4fd9-a0bb-f1506d2ad439</td>\n",
       "      <td>google</td>\n",
       "      <td>2 - Tuesday</td>\n",
       "      <td>NaN</td>\n",
       "      <td>B</td>\n",
       "    </tr>\n",
       "    <tr>\n",
       "      <th>4</th>\n",
       "      <td>012137e6-7ae7-4649-af68-205b4702169c</td>\n",
       "      <td>facebook</td>\n",
       "      <td>7 - Sunday</td>\n",
       "      <td>NaN</td>\n",
       "      <td>B</td>\n",
       "    </tr>\n",
       "    <tr>\n",
       "      <th>5</th>\n",
       "      <td>013b0072-7b72-40e7-b698-98b4d0c9967f</td>\n",
       "      <td>facebook</td>\n",
       "      <td>1 - Monday</td>\n",
       "      <td>NaN</td>\n",
       "      <td>A</td>\n",
       "    </tr>\n",
       "    <tr>\n",
       "      <th>6</th>\n",
       "      <td>0153d85b-7660-4c39-92eb-1e1acd023280</td>\n",
       "      <td>google</td>\n",
       "      <td>4 - Thursday</td>\n",
       "      <td>NaN</td>\n",
       "      <td>A</td>\n",
       "    </tr>\n",
       "    <tr>\n",
       "      <th>7</th>\n",
       "      <td>01555297-d6e6-49ae-aeba-1b196fdbb09f</td>\n",
       "      <td>google</td>\n",
       "      <td>3 - Wednesday</td>\n",
       "      <td>NaN</td>\n",
       "      <td>A</td>\n",
       "    </tr>\n",
       "    <tr>\n",
       "      <th>8</th>\n",
       "      <td>018cea61-19ea-4119-895b-1a4309ccb148</td>\n",
       "      <td>email</td>\n",
       "      <td>1 - Monday</td>\n",
       "      <td>18:33</td>\n",
       "      <td>A</td>\n",
       "    </tr>\n",
       "    <tr>\n",
       "      <th>9</th>\n",
       "      <td>01a210c3-fde0-4e6f-8efd-4f0e38730ae6</td>\n",
       "      <td>email</td>\n",
       "      <td>2 - Tuesday</td>\n",
       "      <td>15:21</td>\n",
       "      <td>B</td>\n",
       "    </tr>\n",
       "  </tbody>\n",
       "</table>\n",
       "</div>"
      ],
      "text/plain": [
       "                                user_id utm_source            day  \\\n",
       "0  008b7c6c-7272-471e-b90e-930d548bd8d7     google   6 - Saturday   \n",
       "1  009abb94-5e14-4b6c-bb1c-4f4df7aa7557   facebook     7 - Sunday   \n",
       "2  00f5d532-ed58-4570-b6d2-768df5f41aed    twitter    2 - Tuesday   \n",
       "3  011adc64-0f44-4fd9-a0bb-f1506d2ad439     google    2 - Tuesday   \n",
       "4  012137e6-7ae7-4649-af68-205b4702169c   facebook     7 - Sunday   \n",
       "5  013b0072-7b72-40e7-b698-98b4d0c9967f   facebook     1 - Monday   \n",
       "6  0153d85b-7660-4c39-92eb-1e1acd023280     google   4 - Thursday   \n",
       "7  01555297-d6e6-49ae-aeba-1b196fdbb09f     google  3 - Wednesday   \n",
       "8  018cea61-19ea-4119-895b-1a4309ccb148      email     1 - Monday   \n",
       "9  01a210c3-fde0-4e6f-8efd-4f0e38730ae6      email    2 - Tuesday   \n",
       "\n",
       "  ad_click_timestamp experimental_group  \n",
       "0               7:18                  A  \n",
       "1                NaN                  B  \n",
       "2                NaN                  A  \n",
       "3                NaN                  B  \n",
       "4                NaN                  B  \n",
       "5                NaN                  A  \n",
       "6                NaN                  A  \n",
       "7                NaN                  A  \n",
       "8              18:33                  A  \n",
       "9              15:21                  B  "
      ]
     },
     "execution_count": 8,
     "metadata": {},
     "output_type": "execute_result"
    }
   ],
   "source": [
    "ad_clicks = pd.read_csv(\"ad_clicks.csv\")\n",
    "ad_clicks.head(10)"
   ]
  },
  {
   "cell_type": "markdown",
   "metadata": {},
   "source": [
    "# Prepare THE DATA"
   ]
  },
  {
   "cell_type": "code",
   "execution_count": 7,
   "metadata": {},
   "outputs": [
    {
     "name": "stdout",
     "output_type": "stream",
     "text": [
      "  utm_source  user_id\n",
      "0      email      255\n",
      "1   facebook      504\n",
      "2     google      680\n",
      "3    twitter      215\n"
     ]
    }
   ],
   "source": [
    "ad_clicks = pd.read_csv(\"ad_clicks.csv\")\n",
    "print(ad_clicks.groupby('utm_source').user_id.count().reset_index())"
   ]
  },
  {
   "cell_type": "markdown",
   "metadata": {},
   "source": [
    "Create a new column called is_click, which is True if ad_click_timestamp is not null and False otherwise.\n"
   ]
  },
  {
   "cell_type": "code",
   "execution_count": 10,
   "metadata": {},
   "outputs": [
    {
     "data": {
      "text/html": [
       "<div>\n",
       "<style scoped>\n",
       "    .dataframe tbody tr th:only-of-type {\n",
       "        vertical-align: middle;\n",
       "    }\n",
       "\n",
       "    .dataframe tbody tr th {\n",
       "        vertical-align: top;\n",
       "    }\n",
       "\n",
       "    .dataframe thead th {\n",
       "        text-align: right;\n",
       "    }\n",
       "</style>\n",
       "<table border=\"1\" class=\"dataframe\">\n",
       "  <thead>\n",
       "    <tr style=\"text-align: right;\">\n",
       "      <th></th>\n",
       "      <th>user_id</th>\n",
       "      <th>utm_source</th>\n",
       "      <th>day</th>\n",
       "      <th>ad_click_timestamp</th>\n",
       "      <th>experimental_group</th>\n",
       "      <th>is_click</th>\n",
       "    </tr>\n",
       "  </thead>\n",
       "  <tbody>\n",
       "    <tr>\n",
       "      <th>0</th>\n",
       "      <td>008b7c6c-7272-471e-b90e-930d548bd8d7</td>\n",
       "      <td>google</td>\n",
       "      <td>6 - Saturday</td>\n",
       "      <td>7:18</td>\n",
       "      <td>A</td>\n",
       "      <td>True</td>\n",
       "    </tr>\n",
       "    <tr>\n",
       "      <th>1</th>\n",
       "      <td>009abb94-5e14-4b6c-bb1c-4f4df7aa7557</td>\n",
       "      <td>facebook</td>\n",
       "      <td>7 - Sunday</td>\n",
       "      <td>NaN</td>\n",
       "      <td>B</td>\n",
       "      <td>False</td>\n",
       "    </tr>\n",
       "    <tr>\n",
       "      <th>2</th>\n",
       "      <td>00f5d532-ed58-4570-b6d2-768df5f41aed</td>\n",
       "      <td>twitter</td>\n",
       "      <td>2 - Tuesday</td>\n",
       "      <td>NaN</td>\n",
       "      <td>A</td>\n",
       "      <td>False</td>\n",
       "    </tr>\n",
       "    <tr>\n",
       "      <th>3</th>\n",
       "      <td>011adc64-0f44-4fd9-a0bb-f1506d2ad439</td>\n",
       "      <td>google</td>\n",
       "      <td>2 - Tuesday</td>\n",
       "      <td>NaN</td>\n",
       "      <td>B</td>\n",
       "      <td>False</td>\n",
       "    </tr>\n",
       "    <tr>\n",
       "      <th>4</th>\n",
       "      <td>012137e6-7ae7-4649-af68-205b4702169c</td>\n",
       "      <td>facebook</td>\n",
       "      <td>7 - Sunday</td>\n",
       "      <td>NaN</td>\n",
       "      <td>B</td>\n",
       "      <td>False</td>\n",
       "    </tr>\n",
       "    <tr>\n",
       "      <th>5</th>\n",
       "      <td>013b0072-7b72-40e7-b698-98b4d0c9967f</td>\n",
       "      <td>facebook</td>\n",
       "      <td>1 - Monday</td>\n",
       "      <td>NaN</td>\n",
       "      <td>A</td>\n",
       "      <td>False</td>\n",
       "    </tr>\n",
       "    <tr>\n",
       "      <th>6</th>\n",
       "      <td>0153d85b-7660-4c39-92eb-1e1acd023280</td>\n",
       "      <td>google</td>\n",
       "      <td>4 - Thursday</td>\n",
       "      <td>NaN</td>\n",
       "      <td>A</td>\n",
       "      <td>False</td>\n",
       "    </tr>\n",
       "    <tr>\n",
       "      <th>7</th>\n",
       "      <td>01555297-d6e6-49ae-aeba-1b196fdbb09f</td>\n",
       "      <td>google</td>\n",
       "      <td>3 - Wednesday</td>\n",
       "      <td>NaN</td>\n",
       "      <td>A</td>\n",
       "      <td>False</td>\n",
       "    </tr>\n",
       "    <tr>\n",
       "      <th>8</th>\n",
       "      <td>018cea61-19ea-4119-895b-1a4309ccb148</td>\n",
       "      <td>email</td>\n",
       "      <td>1 - Monday</td>\n",
       "      <td>18:33</td>\n",
       "      <td>A</td>\n",
       "      <td>True</td>\n",
       "    </tr>\n",
       "    <tr>\n",
       "      <th>9</th>\n",
       "      <td>01a210c3-fde0-4e6f-8efd-4f0e38730ae6</td>\n",
       "      <td>email</td>\n",
       "      <td>2 - Tuesday</td>\n",
       "      <td>15:21</td>\n",
       "      <td>B</td>\n",
       "      <td>True</td>\n",
       "    </tr>\n",
       "  </tbody>\n",
       "</table>\n",
       "</div>"
      ],
      "text/plain": [
       "                                user_id utm_source            day  \\\n",
       "0  008b7c6c-7272-471e-b90e-930d548bd8d7     google   6 - Saturday   \n",
       "1  009abb94-5e14-4b6c-bb1c-4f4df7aa7557   facebook     7 - Sunday   \n",
       "2  00f5d532-ed58-4570-b6d2-768df5f41aed    twitter    2 - Tuesday   \n",
       "3  011adc64-0f44-4fd9-a0bb-f1506d2ad439     google    2 - Tuesday   \n",
       "4  012137e6-7ae7-4649-af68-205b4702169c   facebook     7 - Sunday   \n",
       "5  013b0072-7b72-40e7-b698-98b4d0c9967f   facebook     1 - Monday   \n",
       "6  0153d85b-7660-4c39-92eb-1e1acd023280     google   4 - Thursday   \n",
       "7  01555297-d6e6-49ae-aeba-1b196fdbb09f     google  3 - Wednesday   \n",
       "8  018cea61-19ea-4119-895b-1a4309ccb148      email     1 - Monday   \n",
       "9  01a210c3-fde0-4e6f-8efd-4f0e38730ae6      email    2 - Tuesday   \n",
       "\n",
       "  ad_click_timestamp experimental_group  is_click  \n",
       "0               7:18                  A      True  \n",
       "1                NaN                  B     False  \n",
       "2                NaN                  A     False  \n",
       "3                NaN                  B     False  \n",
       "4                NaN                  B     False  \n",
       "5                NaN                  A     False  \n",
       "6                NaN                  A     False  \n",
       "7                NaN                  A     False  \n",
       "8              18:33                  A      True  \n",
       "9              15:21                  B      True  "
      ]
     },
     "execution_count": 10,
     "metadata": {},
     "output_type": "execute_result"
    }
   ],
   "source": [
    "ad_clicks['is_click'] = ~ad_clicks.ad_click_timestamp.isnull()\n",
    "ad_clicks.head(10)"
   ]
  },
  {
   "cell_type": "markdown",
   "metadata": {},
   "source": [
    "# Grouping by utm_source & is_click and counting the number"
   ]
  },
  {
   "cell_type": "code",
   "execution_count": 12,
   "metadata": {},
   "outputs": [
    {
     "data": {
      "text/html": [
       "<div>\n",
       "<style scoped>\n",
       "    .dataframe tbody tr th:only-of-type {\n",
       "        vertical-align: middle;\n",
       "    }\n",
       "\n",
       "    .dataframe tbody tr th {\n",
       "        vertical-align: top;\n",
       "    }\n",
       "\n",
       "    .dataframe thead th {\n",
       "        text-align: right;\n",
       "    }\n",
       "</style>\n",
       "<table border=\"1\" class=\"dataframe\">\n",
       "  <thead>\n",
       "    <tr style=\"text-align: right;\">\n",
       "      <th></th>\n",
       "      <th>utm_source</th>\n",
       "      <th>is_click</th>\n",
       "      <th>user_id</th>\n",
       "    </tr>\n",
       "  </thead>\n",
       "  <tbody>\n",
       "    <tr>\n",
       "      <th>0</th>\n",
       "      <td>email</td>\n",
       "      <td>False</td>\n",
       "      <td>175</td>\n",
       "    </tr>\n",
       "    <tr>\n",
       "      <th>1</th>\n",
       "      <td>email</td>\n",
       "      <td>True</td>\n",
       "      <td>80</td>\n",
       "    </tr>\n",
       "    <tr>\n",
       "      <th>2</th>\n",
       "      <td>facebook</td>\n",
       "      <td>False</td>\n",
       "      <td>324</td>\n",
       "    </tr>\n",
       "    <tr>\n",
       "      <th>3</th>\n",
       "      <td>facebook</td>\n",
       "      <td>True</td>\n",
       "      <td>180</td>\n",
       "    </tr>\n",
       "    <tr>\n",
       "      <th>4</th>\n",
       "      <td>google</td>\n",
       "      <td>False</td>\n",
       "      <td>441</td>\n",
       "    </tr>\n",
       "    <tr>\n",
       "      <th>5</th>\n",
       "      <td>google</td>\n",
       "      <td>True</td>\n",
       "      <td>239</td>\n",
       "    </tr>\n",
       "    <tr>\n",
       "      <th>6</th>\n",
       "      <td>twitter</td>\n",
       "      <td>False</td>\n",
       "      <td>149</td>\n",
       "    </tr>\n",
       "    <tr>\n",
       "      <th>7</th>\n",
       "      <td>twitter</td>\n",
       "      <td>True</td>\n",
       "      <td>66</td>\n",
       "    </tr>\n",
       "  </tbody>\n",
       "</table>\n",
       "</div>"
      ],
      "text/plain": [
       "  utm_source  is_click  user_id\n",
       "0      email     False      175\n",
       "1      email      True       80\n",
       "2   facebook     False      324\n",
       "3   facebook      True      180\n",
       "4     google     False      441\n",
       "5     google      True      239\n",
       "6    twitter     False      149\n",
       "7    twitter      True       66"
      ]
     },
     "execution_count": 12,
     "metadata": {},
     "output_type": "execute_result"
    }
   ],
   "source": [
    "clicks_by_source= ad_clicks.groupby(['utm_source','is_click']).user_id.count().reset_index()\n",
    "clicks_by_source.head(10)"
   ]
  },
  {
   "cell_type": "markdown",
   "metadata": {},
   "source": [
    "# Pivot the data "
   ]
  },
  {
   "cell_type": "markdown",
   "metadata": {},
   "source": [
    "The columns are is_click"
   ]
  },
  {
   "cell_type": "code",
   "execution_count": 14,
   "metadata": {},
   "outputs": [
    {
     "data": {
      "text/html": [
       "<div>\n",
       "<style scoped>\n",
       "    .dataframe tbody tr th:only-of-type {\n",
       "        vertical-align: middle;\n",
       "    }\n",
       "\n",
       "    .dataframe tbody tr th {\n",
       "        vertical-align: top;\n",
       "    }\n",
       "\n",
       "    .dataframe thead th {\n",
       "        text-align: right;\n",
       "    }\n",
       "</style>\n",
       "<table border=\"1\" class=\"dataframe\">\n",
       "  <thead>\n",
       "    <tr style=\"text-align: right;\">\n",
       "      <th>is_click</th>\n",
       "      <th>utm_source</th>\n",
       "      <th>False</th>\n",
       "      <th>True</th>\n",
       "    </tr>\n",
       "  </thead>\n",
       "  <tbody>\n",
       "    <tr>\n",
       "      <th>0</th>\n",
       "      <td>email</td>\n",
       "      <td>175</td>\n",
       "      <td>80</td>\n",
       "    </tr>\n",
       "    <tr>\n",
       "      <th>1</th>\n",
       "      <td>facebook</td>\n",
       "      <td>324</td>\n",
       "      <td>180</td>\n",
       "    </tr>\n",
       "    <tr>\n",
       "      <th>2</th>\n",
       "      <td>google</td>\n",
       "      <td>441</td>\n",
       "      <td>239</td>\n",
       "    </tr>\n",
       "    <tr>\n",
       "      <th>3</th>\n",
       "      <td>twitter</td>\n",
       "      <td>149</td>\n",
       "      <td>66</td>\n",
       "    </tr>\n",
       "  </tbody>\n",
       "</table>\n",
       "</div>"
      ],
      "text/plain": [
       "is_click utm_source  False  True\n",
       "0             email    175    80\n",
       "1          facebook    324   180\n",
       "2            google    441   239\n",
       "3           twitter    149    66"
      ]
     },
     "execution_count": 14,
     "metadata": {},
     "output_type": "execute_result"
    }
   ],
   "source": [
    "clicks_by_source_pivot = clicks_by_source\\\n",
    "    .pivot(index ='utm_source',\n",
    "       columns='is_click',\n",
    "       values ='user_id').reset_index()  \n",
    "clicks_by_source_pivot.head(10)"
   ]
  },
  {
   "cell_type": "markdown",
   "metadata": {},
   "source": [
    "# Percent of clicking\n"
   ]
  },
  {
   "cell_type": "code",
   "execution_count": 17,
   "metadata": {},
   "outputs": [
    {
     "data": {
      "text/html": [
       "<div>\n",
       "<style scoped>\n",
       "    .dataframe tbody tr th:only-of-type {\n",
       "        vertical-align: middle;\n",
       "    }\n",
       "\n",
       "    .dataframe tbody tr th {\n",
       "        vertical-align: top;\n",
       "    }\n",
       "\n",
       "    .dataframe thead th {\n",
       "        text-align: right;\n",
       "    }\n",
       "</style>\n",
       "<table border=\"1\" class=\"dataframe\">\n",
       "  <thead>\n",
       "    <tr style=\"text-align: right;\">\n",
       "      <th>is_click</th>\n",
       "      <th>utm_source</th>\n",
       "      <th>False</th>\n",
       "      <th>True</th>\n",
       "      <th>percent_clicked</th>\n",
       "    </tr>\n",
       "  </thead>\n",
       "  <tbody>\n",
       "    <tr>\n",
       "      <th>0</th>\n",
       "      <td>email</td>\n",
       "      <td>175</td>\n",
       "      <td>80</td>\n",
       "      <td>31.37</td>\n",
       "    </tr>\n",
       "    <tr>\n",
       "      <th>1</th>\n",
       "      <td>facebook</td>\n",
       "      <td>324</td>\n",
       "      <td>180</td>\n",
       "      <td>35.71</td>\n",
       "    </tr>\n",
       "    <tr>\n",
       "      <th>2</th>\n",
       "      <td>google</td>\n",
       "      <td>441</td>\n",
       "      <td>239</td>\n",
       "      <td>35.15</td>\n",
       "    </tr>\n",
       "    <tr>\n",
       "      <th>3</th>\n",
       "      <td>twitter</td>\n",
       "      <td>149</td>\n",
       "      <td>66</td>\n",
       "      <td>30.70</td>\n",
       "    </tr>\n",
       "  </tbody>\n",
       "</table>\n",
       "</div>"
      ],
      "text/plain": [
       "is_click utm_source  False  True  percent_clicked \n",
       "0             email    175    80             31.37\n",
       "1          facebook    324   180             35.71\n",
       "2            google    441   239             35.15\n",
       "3           twitter    149    66             30.70"
      ]
     },
     "execution_count": 17,
     "metadata": {},
     "output_type": "execute_result"
    }
   ],
   "source": [
    "clicks_by_source_pivot['percent_clicked ']= round(((clicks_by_source_pivot[True]/(clicks_by_source_pivot[True] + clicks_by_source_pivot[False])))*100,2)\n",
    "clicks_by_source_pivot.head()"
   ]
  },
  {
   "cell_type": "markdown",
   "metadata": {},
   "source": [
    "# Experimental_group"
   ]
  },
  {
   "cell_type": "markdown",
   "metadata": {},
   "source": [
    "Group by experimental_group and count the number of users"
   ]
  },
  {
   "cell_type": "markdown",
   "metadata": {},
   "source": [
    "And check to see if a greater percentage of users clicked on Ad A or Ad B."
   ]
  },
  {
   "cell_type": "code",
   "execution_count": 19,
   "metadata": {},
   "outputs": [
    {
     "data": {
      "text/html": [
       "<div>\n",
       "<style scoped>\n",
       "    .dataframe tbody tr th:only-of-type {\n",
       "        vertical-align: middle;\n",
       "    }\n",
       "\n",
       "    .dataframe tbody tr th {\n",
       "        vertical-align: top;\n",
       "    }\n",
       "\n",
       "    .dataframe thead th {\n",
       "        text-align: right;\n",
       "    }\n",
       "</style>\n",
       "<table border=\"1\" class=\"dataframe\">\n",
       "  <thead>\n",
       "    <tr style=\"text-align: right;\">\n",
       "      <th>is_click</th>\n",
       "      <th>experimental_group</th>\n",
       "      <th>False</th>\n",
       "      <th>True</th>\n",
       "    </tr>\n",
       "  </thead>\n",
       "  <tbody>\n",
       "    <tr>\n",
       "      <th>0</th>\n",
       "      <td>A</td>\n",
       "      <td>517</td>\n",
       "      <td>310</td>\n",
       "    </tr>\n",
       "    <tr>\n",
       "      <th>1</th>\n",
       "      <td>B</td>\n",
       "      <td>572</td>\n",
       "      <td>255</td>\n",
       "    </tr>\n",
       "  </tbody>\n",
       "</table>\n",
       "</div>"
      ],
      "text/plain": [
       "is_click experimental_group  False  True\n",
       "0                         A    517   310\n",
       "1                         B    572   255"
      ]
     },
     "execution_count": 19,
     "metadata": {},
     "output_type": "execute_result"
    }
   ],
   "source": [
    "experimental_group_numbers = ad_clicks.groupby(['experimental_group','is_click']).user_id.count().reset_index()\n",
    "experimental_group_numbers_pivot = experimental_group_numbers.pivot\\\n",
    "(index= 'experimental_group',\n",
    " columns ='is_click',\n",
    " values='user_id').reset_index()\n",
    "experimental_group_numbers_pivot.head()"
   ]
  },
  {
   "cell_type": "markdown",
   "metadata": {},
   "source": [
    "Creating two DataFrames: a_clicks and b_clicks, which contain only the results for A group and B group"
   ]
  },
  {
   "cell_type": "code",
   "execution_count": 20,
   "metadata": {},
   "outputs": [],
   "source": [
    "a_clicks = ad_clicks[ad_clicks.experimental_group == 'A']\n",
    "b_clicks = ad_clicks[ad_clicks.experimental_group == 'B']"
   ]
  },
  {
   "cell_type": "markdown",
   "metadata": {},
   "source": [
    "Calculate the percent of users who clicked on the ad by day"
   ]
  },
  {
   "cell_type": "code",
   "execution_count": 21,
   "metadata": {},
   "outputs": [
    {
     "data": {
      "text/html": [
       "<div>\n",
       "<style scoped>\n",
       "    .dataframe tbody tr th:only-of-type {\n",
       "        vertical-align: middle;\n",
       "    }\n",
       "\n",
       "    .dataframe tbody tr th {\n",
       "        vertical-align: top;\n",
       "    }\n",
       "\n",
       "    .dataframe thead th {\n",
       "        text-align: right;\n",
       "    }\n",
       "</style>\n",
       "<table border=\"1\" class=\"dataframe\">\n",
       "  <thead>\n",
       "    <tr style=\"text-align: right;\">\n",
       "      <th>is_click</th>\n",
       "      <th>day</th>\n",
       "      <th>False</th>\n",
       "      <th>True</th>\n",
       "      <th>percentage</th>\n",
       "    </tr>\n",
       "  </thead>\n",
       "  <tbody>\n",
       "    <tr>\n",
       "      <th>0</th>\n",
       "      <td>1 - Monday</td>\n",
       "      <td>151</td>\n",
       "      <td>75</td>\n",
       "      <td>0.331858</td>\n",
       "    </tr>\n",
       "    <tr>\n",
       "      <th>1</th>\n",
       "      <td>2 - Tuesday</td>\n",
       "      <td>150</td>\n",
       "      <td>88</td>\n",
       "      <td>0.369748</td>\n",
       "    </tr>\n",
       "    <tr>\n",
       "      <th>2</th>\n",
       "      <td>3 - Wednesday</td>\n",
       "      <td>175</td>\n",
       "      <td>73</td>\n",
       "      <td>0.294355</td>\n",
       "    </tr>\n",
       "    <tr>\n",
       "      <th>3</th>\n",
       "      <td>4 - Thursday</td>\n",
       "      <td>156</td>\n",
       "      <td>76</td>\n",
       "      <td>0.327586</td>\n",
       "    </tr>\n",
       "    <tr>\n",
       "      <th>4</th>\n",
       "      <td>5 - Friday</td>\n",
       "      <td>167</td>\n",
       "      <td>89</td>\n",
       "      <td>0.347656</td>\n",
       "    </tr>\n",
       "  </tbody>\n",
       "</table>\n",
       "</div>"
      ],
      "text/plain": [
       "is_click            day  False  True  percentage\n",
       "0            1 - Monday    151    75    0.331858\n",
       "1           2 - Tuesday    150    88    0.369748\n",
       "2         3 - Wednesday    175    73    0.294355\n",
       "3          4 - Thursday    156    76    0.327586\n",
       "4            5 - Friday    167    89    0.347656"
      ]
     },
     "execution_count": 21,
     "metadata": {},
     "output_type": "execute_result"
    }
   ],
   "source": [
    "is_click_by_days= ad_clicks.groupby(['is_click','day']).user_id.count().reset_index()\n",
    "is_click_by_days_pivot = is_click_by_days.pivot\\\n",
    "(index ='day',\n",
    " columns ='is_click',\n",
    " values= 'user_id').reset_index()\n",
    "is_click_by_days_pivot['percentage'] = is_click_by_days_pivot[True]/(is_click_by_days_pivot[True] + is_click_by_days_pivot[False] )\n",
    "is_click_by_days_pivot.head()"
   ]
  }
 ],
 "metadata": {
  "kernelspec": {
   "display_name": "venv",
   "language": "python",
   "name": "python3"
  },
  "language_info": {
   "codemirror_mode": {
    "name": "ipython",
    "version": 3
   },
   "file_extension": ".py",
   "mimetype": "text/x-python",
   "name": "python",
   "nbconvert_exporter": "python",
   "pygments_lexer": "ipython3",
   "version": "3.11.5"
  }
 },
 "nbformat": 4,
 "nbformat_minor": 2
}
